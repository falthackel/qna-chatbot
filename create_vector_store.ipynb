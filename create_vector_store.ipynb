{
 "cells": [
  {
   "cell_type": "markdown",
   "metadata": {},
   "source": [
    "# About\n",
    "- Load transcript data\n",
    "- Create and persist a chromadb"
   ]
  },
  {
   "cell_type": "markdown",
   "metadata": {},
   "source": [
    "# Step 1: Import Libraries and Settings"
   ]
  },
  {
   "cell_type": "code",
   "execution_count": 1,
   "metadata": {},
   "outputs": [],
   "source": [
    "import pandas as pd\n",
    "import os\n",
    "import seaborn as sns\n",
    "from dotenv import load_dotenv\n",
    "import torch\n",
    "\n",
    "from langchain_openai.embeddings import OpenAIEmbeddings\n",
    "from langchain_community.vectorstores import Chroma\n",
    "from langchain.document_loaders import DataFrameLoader\n",
    "from langchain.text_splitter import RecursiveCharacterTextSplitter\n",
    "\n",
    "\n",
    "load_dotenv()\n",
    "OPENAI_API_KEY = os.environ['OPENAI_API_KEY']"
   ]
  },
  {
   "cell_type": "code",
   "execution_count": 2,
   "metadata": {},
   "outputs": [
    {
     "name": "stdout",
     "output_type": "stream",
     "text": [
      "Fri Nov  8 14:09:19 2024       \n",
      "+-----------------------------------------------------------------------------------------+\n",
      "| NVIDIA-SMI 565.90                 Driver Version: 565.90         CUDA Version: 12.7     |\n",
      "|-----------------------------------------+------------------------+----------------------+\n",
      "| GPU  Name                  Driver-Model | Bus-Id          Disp.A | Volatile Uncorr. ECC |\n",
      "| Fan  Temp   Perf          Pwr:Usage/Cap |           Memory-Usage | GPU-Util  Compute M. |\n",
      "|                                         |                        |               MIG M. |\n",
      "|=========================================+========================+======================|\n",
      "|   0  NVIDIA GeForce RTX 3050 ...  WDDM  |   00000000:01:00.0 Off |                  N/A |\n",
      "| N/A   51C    P8              3W /   68W |       0MiB /   6144MiB |      0%      Default |\n",
      "|                                         |                        |                  N/A |\n",
      "+-----------------------------------------+------------------------+----------------------+\n",
      "                                                                                         \n",
      "+-----------------------------------------------------------------------------------------+\n",
      "| Processes:                                                                              |\n",
      "|  GPU   GI   CI        PID   Type   Process name                              GPU Memory |\n",
      "|        ID   ID                                                               Usage      |\n",
      "|=========================================================================================|\n",
      "|  No running processes found                                                             |\n",
      "+-----------------------------------------------------------------------------------------+\n"
     ]
    }
   ],
   "source": [
    "!nvidia-smi"
   ]
  },
  {
   "cell_type": "code",
   "execution_count": 3,
   "metadata": {},
   "outputs": [
    {
     "name": "stdout",
     "output_type": "stream",
     "text": [
      "2.3.1+cu118\n",
      "CUDA available: True\n",
      "__CUDNN VERSION: 8700\n",
      "__Number CUDA Devices: 1\n",
      "__CUDA Device Name: NVIDIA GeForce RTX 3050 6GB Laptop GPU\n",
      "__CUDA Device Total Memory [GB]: 6.441926656\n"
     ]
    }
   ],
   "source": [
    "print(torch.__version__)\n",
    "\n",
    "use_cuda = torch.cuda.is_available()\n",
    "print(\"CUDA available:\",use_cuda)\n",
    "if use_cuda:\n",
    "    print('__CUDNN VERSION:', torch.backends.cudnn.version())\n",
    "    print('__Number CUDA Devices:', torch.cuda.device_count())\n",
    "    print('__CUDA Device Name:',torch.cuda.get_device_name(0))\n",
    "    print('__CUDA Device Total Memory [GB]:',torch.cuda.get_device_properties(0).total_memory/1e9)"
   ]
  },
  {
   "cell_type": "code",
   "execution_count": 4,
   "metadata": {},
   "outputs": [
    {
     "name": "stdout",
     "output_type": "stream",
     "text": [
      "Device:  cuda\n"
     ]
    }
   ],
   "source": [
    "# Run this if CUDA is not activate\n",
    "device = torch.device(\"cuda\" if use_cuda else \"cpu\")\n",
    "print(\"Device: \",device)"
   ]
  },
  {
   "cell_type": "markdown",
   "metadata": {},
   "source": [
    "# Step 2: Create Vector Store"
   ]
  },
  {
   "cell_type": "code",
   "execution_count": 5,
   "metadata": {},
   "outputs": [],
   "source": [
    "# Instantiate the embeddings model\n",
    "# OpenAI embeddings models: https://platform.openai.com/docs/models/embeddings\n",
    "# OpenAI pricing: https://openai.com/pricing\n",
    "# Documentation on LangChain: https://python.langchain.com/docs/modules/data_connection/text_embedding/ ; https://python.langchain.com/docs/integrations/text_embedding/openai/\n",
    "embeddings_model = OpenAIEmbeddings(api_key=OPENAI_API_KEY, model='text-embedding-ada-002', max_retries=100, chunk_size=16, show_progress_bar=False)"
   ]
  },
  {
   "cell_type": "markdown",
   "metadata": {},
   "source": [
    "## EDA"
   ]
  },
  {
   "cell_type": "code",
   "execution_count": 6,
   "metadata": {},
   "outputs": [
    {
     "data": {
      "text/html": [
       "<div>\n",
       "<style scoped>\n",
       "    .dataframe tbody tr th:only-of-type {\n",
       "        vertical-align: middle;\n",
       "    }\n",
       "\n",
       "    .dataframe tbody tr th {\n",
       "        vertical-align: top;\n",
       "    }\n",
       "\n",
       "    .dataframe thead th {\n",
       "        text-align: right;\n",
       "    }\n",
       "</style>\n",
       "<table border=\"1\" class=\"dataframe\">\n",
       "  <thead>\n",
       "    <tr style=\"text-align: right;\">\n",
       "      <th></th>\n",
       "      <th>Unnamed: 0</th>\n",
       "      <th>review_id</th>\n",
       "      <th>pseudo_author_id</th>\n",
       "      <th>author_name</th>\n",
       "      <th>review_text</th>\n",
       "      <th>review_rating</th>\n",
       "      <th>review_likes</th>\n",
       "      <th>author_app_version</th>\n",
       "      <th>review_timestamp</th>\n",
       "    </tr>\n",
       "  </thead>\n",
       "  <tbody>\n",
       "    <tr>\n",
       "      <th>0</th>\n",
       "      <td>0</td>\n",
       "      <td>14a011a8-7544-47b4-8480-c502af0ac26f</td>\n",
       "      <td>152618553977019693742</td>\n",
       "      <td>A Google user</td>\n",
       "      <td>Use it every day</td>\n",
       "      <td>5</td>\n",
       "      <td>1</td>\n",
       "      <td>1.1.0.91</td>\n",
       "      <td>2014-05-27 14:21:48</td>\n",
       "    </tr>\n",
       "    <tr>\n",
       "      <th>1</th>\n",
       "      <td>1</td>\n",
       "      <td>bfa8876b-470e-4640-83a7-77427f7f37e8</td>\n",
       "      <td>234382942865437071667</td>\n",
       "      <td>A Google user</td>\n",
       "      <td>I enjoy the awesome UI of this app, and it has...</td>\n",
       "      <td>5</td>\n",
       "      <td>4</td>\n",
       "      <td>1.1.0.91</td>\n",
       "      <td>2014-05-27 14:36:02</td>\n",
       "    </tr>\n",
       "    <tr>\n",
       "      <th>2</th>\n",
       "      <td>2</td>\n",
       "      <td>70e8252f-058a-47d9-b066-df9e1571c970</td>\n",
       "      <td>174473604608358796368</td>\n",
       "      <td>A Google user</td>\n",
       "      <td>Love it! Especially the new design!</td>\n",
       "      <td>5</td>\n",
       "      <td>2</td>\n",
       "      <td>1.1.0.91</td>\n",
       "      <td>2014-05-27 14:40:01</td>\n",
       "    </tr>\n",
       "    <tr>\n",
       "      <th>3</th>\n",
       "      <td>3</td>\n",
       "      <td>672a155a-e81e-4d28-bdeb-a74c031bc072</td>\n",
       "      <td>286593453219054880269</td>\n",
       "      <td>A Google user</td>\n",
       "      <td>Awesome UI, best music app out there!</td>\n",
       "      <td>5</td>\n",
       "      <td>1</td>\n",
       "      <td>1.1.0.91</td>\n",
       "      <td>2014-05-27 15:17:20</td>\n",
       "    </tr>\n",
       "    <tr>\n",
       "      <th>4</th>\n",
       "      <td>4</td>\n",
       "      <td>bbc1bf95-ed36-41a1-8b98-0f2e314caea5</td>\n",
       "      <td>167276875678680630145</td>\n",
       "      <td>A Google user</td>\n",
       "      <td>As a professional Android developer I'm glad t...</td>\n",
       "      <td>5</td>\n",
       "      <td>10</td>\n",
       "      <td>1.1.0.91</td>\n",
       "      <td>2014-05-27 15:26:48</td>\n",
       "    </tr>\n",
       "  </tbody>\n",
       "</table>\n",
       "</div>"
      ],
      "text/plain": [
       "   Unnamed: 0                             review_id       pseudo_author_id  \\\n",
       "0           0  14a011a8-7544-47b4-8480-c502af0ac26f  152618553977019693742   \n",
       "1           1  bfa8876b-470e-4640-83a7-77427f7f37e8  234382942865437071667   \n",
       "2           2  70e8252f-058a-47d9-b066-df9e1571c970  174473604608358796368   \n",
       "3           3  672a155a-e81e-4d28-bdeb-a74c031bc072  286593453219054880269   \n",
       "4           4  bbc1bf95-ed36-41a1-8b98-0f2e314caea5  167276875678680630145   \n",
       "\n",
       "     author_name                                        review_text  \\\n",
       "0  A Google user                                   Use it every day   \n",
       "1  A Google user  I enjoy the awesome UI of this app, and it has...   \n",
       "2  A Google user                Love it! Especially the new design!   \n",
       "3  A Google user              Awesome UI, best music app out there!   \n",
       "4  A Google user  As a professional Android developer I'm glad t...   \n",
       "\n",
       "   review_rating  review_likes author_app_version     review_timestamp  \n",
       "0              5             1           1.1.0.91  2014-05-27 14:21:48  \n",
       "1              5             4           1.1.0.91  2014-05-27 14:36:02  \n",
       "2              5             2           1.1.0.91  2014-05-27 14:40:01  \n",
       "3              5             1           1.1.0.91  2014-05-27 15:17:20  \n",
       "4              5            10           1.1.0.91  2014-05-27 15:26:48  "
      ]
     },
     "execution_count": 6,
     "metadata": {},
     "output_type": "execute_result"
    }
   ],
   "source": [
    "# Load the data\n",
    "df = pd.read_csv('data/SPOTIFY_REVIEWS.csv')\n",
    "df.head(5)"
   ]
  },
  {
   "cell_type": "code",
   "execution_count": 7,
   "metadata": {},
   "outputs": [
    {
     "data": {
      "text/plain": [
       "3377423"
      ]
     },
     "execution_count": 7,
     "metadata": {},
     "output_type": "execute_result"
    }
   ],
   "source": [
    "df.shape[0]"
   ]
  },
  {
   "cell_type": "code",
   "execution_count": 8,
   "metadata": {},
   "outputs": [
    {
     "data": {
      "text/html": [
       "<div>\n",
       "<style scoped>\n",
       "    .dataframe tbody tr th:only-of-type {\n",
       "        vertical-align: middle;\n",
       "    }\n",
       "\n",
       "    .dataframe tbody tr th {\n",
       "        vertical-align: top;\n",
       "    }\n",
       "\n",
       "    .dataframe thead th {\n",
       "        text-align: right;\n",
       "    }\n",
       "</style>\n",
       "<table border=\"1\" class=\"dataframe\">\n",
       "  <thead>\n",
       "    <tr style=\"text-align: right;\">\n",
       "      <th></th>\n",
       "      <th>review_id</th>\n",
       "      <th>pseudo_author_id</th>\n",
       "      <th>author_name</th>\n",
       "      <th>review_text</th>\n",
       "      <th>review_rating</th>\n",
       "      <th>review_likes</th>\n",
       "      <th>author_app_version</th>\n",
       "      <th>review_timestamp</th>\n",
       "    </tr>\n",
       "  </thead>\n",
       "  <tbody>\n",
       "    <tr>\n",
       "      <th>0</th>\n",
       "      <td>14a011a8-7544-47b4-8480-c502af0ac26f</td>\n",
       "      <td>152618553977019693742</td>\n",
       "      <td>A Google user</td>\n",
       "      <td>Use it every day</td>\n",
       "      <td>5</td>\n",
       "      <td>1</td>\n",
       "      <td>1.1.0.91</td>\n",
       "      <td>2014-05-27 14:21:48</td>\n",
       "    </tr>\n",
       "    <tr>\n",
       "      <th>1</th>\n",
       "      <td>bfa8876b-470e-4640-83a7-77427f7f37e8</td>\n",
       "      <td>234382942865437071667</td>\n",
       "      <td>A Google user</td>\n",
       "      <td>I enjoy the awesome UI of this app, and it has...</td>\n",
       "      <td>5</td>\n",
       "      <td>4</td>\n",
       "      <td>1.1.0.91</td>\n",
       "      <td>2014-05-27 14:36:02</td>\n",
       "    </tr>\n",
       "    <tr>\n",
       "      <th>2</th>\n",
       "      <td>70e8252f-058a-47d9-b066-df9e1571c970</td>\n",
       "      <td>174473604608358796368</td>\n",
       "      <td>A Google user</td>\n",
       "      <td>Love it! Especially the new design!</td>\n",
       "      <td>5</td>\n",
       "      <td>2</td>\n",
       "      <td>1.1.0.91</td>\n",
       "      <td>2014-05-27 14:40:01</td>\n",
       "    </tr>\n",
       "    <tr>\n",
       "      <th>3</th>\n",
       "      <td>672a155a-e81e-4d28-bdeb-a74c031bc072</td>\n",
       "      <td>286593453219054880269</td>\n",
       "      <td>A Google user</td>\n",
       "      <td>Awesome UI, best music app out there!</td>\n",
       "      <td>5</td>\n",
       "      <td>1</td>\n",
       "      <td>1.1.0.91</td>\n",
       "      <td>2014-05-27 15:17:20</td>\n",
       "    </tr>\n",
       "    <tr>\n",
       "      <th>4</th>\n",
       "      <td>bbc1bf95-ed36-41a1-8b98-0f2e314caea5</td>\n",
       "      <td>167276875678680630145</td>\n",
       "      <td>A Google user</td>\n",
       "      <td>As a professional Android developer I'm glad t...</td>\n",
       "      <td>5</td>\n",
       "      <td>10</td>\n",
       "      <td>1.1.0.91</td>\n",
       "      <td>2014-05-27 15:26:48</td>\n",
       "    </tr>\n",
       "  </tbody>\n",
       "</table>\n",
       "</div>"
      ],
      "text/plain": [
       "                              review_id       pseudo_author_id    author_name  \\\n",
       "0  14a011a8-7544-47b4-8480-c502af0ac26f  152618553977019693742  A Google user   \n",
       "1  bfa8876b-470e-4640-83a7-77427f7f37e8  234382942865437071667  A Google user   \n",
       "2  70e8252f-058a-47d9-b066-df9e1571c970  174473604608358796368  A Google user   \n",
       "3  672a155a-e81e-4d28-bdeb-a74c031bc072  286593453219054880269  A Google user   \n",
       "4  bbc1bf95-ed36-41a1-8b98-0f2e314caea5  167276875678680630145  A Google user   \n",
       "\n",
       "                                         review_text  review_rating  \\\n",
       "0                                   Use it every day              5   \n",
       "1  I enjoy the awesome UI of this app, and it has...              5   \n",
       "2                Love it! Especially the new design!              5   \n",
       "3              Awesome UI, best music app out there!              5   \n",
       "4  As a professional Android developer I'm glad t...              5   \n",
       "\n",
       "   review_likes author_app_version     review_timestamp  \n",
       "0             1           1.1.0.91  2014-05-27 14:21:48  \n",
       "1             4           1.1.0.91  2014-05-27 14:36:02  \n",
       "2             2           1.1.0.91  2014-05-27 14:40:01  \n",
       "3             1           1.1.0.91  2014-05-27 15:17:20  \n",
       "4            10           1.1.0.91  2014-05-27 15:26:48  "
      ]
     },
     "execution_count": 8,
     "metadata": {},
     "output_type": "execute_result"
    }
   ],
   "source": [
    "# Let's keep the columns we want to include in the metadata\n",
    "cols_keep = ['review_id', 'pseudo_author_id',\n",
    "             'author_name', 'review_text',\n",
    "             'review_rating', 'review_likes',\n",
    "             'author_app_version', 'review_timestamp']\n",
    "df = df[cols_keep]\n",
    "df.head(5)"
   ]
  },
  {
   "cell_type": "code",
   "execution_count": 9,
   "metadata": {},
   "outputs": [
    {
     "name": "stdout",
     "output_type": "stream",
     "text": [
      "<class 'pandas.core.frame.DataFrame'>\n",
      "RangeIndex: 3377423 entries, 0 to 3377422\n",
      "Data columns (total 8 columns):\n",
      " #   Column              Dtype \n",
      "---  ------              ----- \n",
      " 0   review_id           object\n",
      " 1   pseudo_author_id    object\n",
      " 2   author_name         object\n",
      " 3   review_text         object\n",
      " 4   review_rating       int64 \n",
      " 5   review_likes        int64 \n",
      " 6   author_app_version  object\n",
      " 7   review_timestamp    object\n",
      "dtypes: int64(2), object(6)\n",
      "memory usage: 206.1+ MB\n"
     ]
    }
   ],
   "source": [
    "df.info()"
   ]
  },
  {
   "cell_type": "code",
   "execution_count": 10,
   "metadata": {},
   "outputs": [
    {
     "name": "stdout",
     "output_type": "stream",
     "text": [
      "                                    review_id       pseudo_author_id  \\\n",
      "0        14a011a8-7544-47b4-8480-c502af0ac26f  152618553977019693742   \n",
      "1        bfa8876b-470e-4640-83a7-77427f7f37e8  234382942865437071667   \n",
      "2        70e8252f-058a-47d9-b066-df9e1571c970  174473604608358796368   \n",
      "3        672a155a-e81e-4d28-bdeb-a74c031bc072  286593453219054880269   \n",
      "4        bbc1bf95-ed36-41a1-8b98-0f2e314caea5  167276875678680630145   \n",
      "...                                       ...                    ...   \n",
      "3377418  41cafb32-c357-48df-97a3-e3867584f0d6  326345911143311484421   \n",
      "3377419  ad68b04a-ff48-42f6-992b-bd765cdf9e94  322218874321066319125   \n",
      "3377420  9c36196d-12bc-4049-b7e4-27774a644bed  212802607434520579896   \n",
      "3377421  ce45e1f8-78ad-40cc-a33b-d4e4672b8c78  415238355983315158902   \n",
      "3377422  be4f53b5-8137-45db-a652-265d0518a174  325323583553822680222   \n",
      "\n",
      "              author_name                                        review_text  \\\n",
      "0           A Google user                                   Use it every day   \n",
      "1           A Google user  I enjoy the awesome UI of this app, and it has...   \n",
      "2           A Google user                Love it! Especially the new design!   \n",
      "3           A Google user              Awesome UI, best music app out there!   \n",
      "4           A Google user  As a professional Android developer I'm glad t...   \n",
      "...                   ...                                                ...   \n",
      "3377418  su************to  Does not work, always says no internet but U t...   \n",
      "3377419       Pe*******os                                            Goodjob   \n",
      "3377420     An*********ey                  The blues always pull me through.   \n",
      "3377421           St***en   awesome but you can't choose your song sometimes   \n",
      "3377422           Su***ha               Ads again again n again ...worst app   \n",
      "\n",
      "         review_rating  review_likes author_app_version     review_timestamp  \n",
      "0                    5             1           1.1.0.91  2014-05-27 14:21:48  \n",
      "1                    5             4           1.1.0.91  2014-05-27 14:36:02  \n",
      "2                    5             2           1.1.0.91  2014-05-27 14:40:01  \n",
      "3                    5             1           1.1.0.91  2014-05-27 15:17:20  \n",
      "4                    5            10           1.1.0.91  2014-05-27 15:26:48  \n",
      "...                ...           ...                ...                  ...  \n",
      "3377418              1             0         8.8.82.634  2023-11-15 23:11:02  \n",
      "3377419              5             0         8.8.82.634  2023-11-15 23:11:29  \n",
      "3377420              5             0         8.8.82.634  2023-11-15 23:11:32  \n",
      "3377421              4             0         8.8.82.634  2023-11-15 23:15:45  \n",
      "3377422              1             0         8.8.82.634  2023-11-15 23:16:10  \n",
      "\n",
      "[3377423 rows x 8 columns]\n"
     ]
    }
   ],
   "source": [
    "# Check which values in 'review_id' are not numeric\n",
    "non_numeric_review_ids = df[~df['review_id'].str.isnumeric()]\n",
    "\n",
    "# Print out the problematic rows\n",
    "print(non_numeric_review_ids)"
   ]
  },
  {
   "cell_type": "code",
   "execution_count": 11,
   "metadata": {},
   "outputs": [],
   "source": [
    "# Convert review_id and pseudo_author_id to integers, and handle any potential conversion errors\n",
    "df['review_id'] = df['review_id'].astype(str)\n",
    "df['pseudo_author_id'] = pd.to_numeric(df['pseudo_author_id'], errors='coerce')\n",
    "\n",
    "# Ensure author_name and review_text are strings\n",
    "df['author_name'] = df['author_name'].astype(str)\n",
    "df['review_text'] = df['review_text'].astype(str)\n",
    "\n",
    "# review_rating and review_likes are already int64, so no change is needed\n",
    "# Convert author_app_version to string\n",
    "df['author_app_version'] = df['author_app_version'].astype(str)\n",
    "\n",
    "# Convert review_timestamp to string for Chroma\n",
    "df['review_timestamp'] = df['review_timestamp'].astype(str)"
   ]
  },
  {
   "cell_type": "code",
   "execution_count": 12,
   "metadata": {},
   "outputs": [
    {
     "name": "stdout",
     "output_type": "stream",
     "text": [
      "<class 'pandas.core.frame.DataFrame'>\n",
      "RangeIndex: 3377423 entries, 0 to 3377422\n",
      "Data columns (total 8 columns):\n",
      " #   Column              Dtype  \n",
      "---  ------              -----  \n",
      " 0   review_id           object \n",
      " 1   pseudo_author_id    float64\n",
      " 2   author_name         object \n",
      " 3   review_text         object \n",
      " 4   review_rating       int64  \n",
      " 5   review_likes        int64  \n",
      " 6   author_app_version  object \n",
      " 7   review_timestamp    object \n",
      "dtypes: float64(1), int64(2), object(5)\n",
      "memory usage: 206.1+ MB\n"
     ]
    }
   ],
   "source": [
    "df.info()"
   ]
  },
  {
   "cell_type": "code",
   "execution_count": 13,
   "metadata": {},
   "outputs": [
    {
     "data": {
      "text/html": [
       "<div>\n",
       "<style scoped>\n",
       "    .dataframe tbody tr th:only-of-type {\n",
       "        vertical-align: middle;\n",
       "    }\n",
       "\n",
       "    .dataframe tbody tr th {\n",
       "        vertical-align: top;\n",
       "    }\n",
       "\n",
       "    .dataframe thead th {\n",
       "        text-align: right;\n",
       "    }\n",
       "</style>\n",
       "<table border=\"1\" class=\"dataframe\">\n",
       "  <thead>\n",
       "    <tr style=\"text-align: right;\">\n",
       "      <th></th>\n",
       "      <th>pseudo_author_id</th>\n",
       "      <th>review_rating</th>\n",
       "      <th>review_likes</th>\n",
       "    </tr>\n",
       "  </thead>\n",
       "  <tbody>\n",
       "    <tr>\n",
       "      <th>count</th>\n",
       "      <td>3.377423e+06</td>\n",
       "      <td>3.377423e+06</td>\n",
       "      <td>3.377423e+06</td>\n",
       "    </tr>\n",
       "    <tr>\n",
       "      <th>mean</th>\n",
       "      <td>3.172390e+20</td>\n",
       "      <td>4.043836e+00</td>\n",
       "      <td>1.092705e+00</td>\n",
       "    </tr>\n",
       "    <tr>\n",
       "      <th>std</th>\n",
       "      <td>2.141666e+20</td>\n",
       "      <td>1.506860e+00</td>\n",
       "      <td>3.350004e+01</td>\n",
       "    </tr>\n",
       "    <tr>\n",
       "      <th>min</th>\n",
       "      <td>1.000001e+20</td>\n",
       "      <td>0.000000e+00</td>\n",
       "      <td>0.000000e+00</td>\n",
       "    </tr>\n",
       "    <tr>\n",
       "      <th>25%</th>\n",
       "      <td>1.765906e+20</td>\n",
       "      <td>4.000000e+00</td>\n",
       "      <td>0.000000e+00</td>\n",
       "    </tr>\n",
       "    <tr>\n",
       "      <th>50%</th>\n",
       "      <td>2.532434e+20</td>\n",
       "      <td>5.000000e+00</td>\n",
       "      <td>0.000000e+00</td>\n",
       "    </tr>\n",
       "    <tr>\n",
       "      <th>75%</th>\n",
       "      <td>3.297899e+20</td>\n",
       "      <td>5.000000e+00</td>\n",
       "      <td>0.000000e+00</td>\n",
       "    </tr>\n",
       "    <tr>\n",
       "      <th>max</th>\n",
       "      <td>9.999998e+20</td>\n",
       "      <td>5.000000e+00</td>\n",
       "      <td>1.382400e+04</td>\n",
       "    </tr>\n",
       "  </tbody>\n",
       "</table>\n",
       "</div>"
      ],
      "text/plain": [
       "       pseudo_author_id  review_rating  review_likes\n",
       "count      3.377423e+06   3.377423e+06  3.377423e+06\n",
       "mean       3.172390e+20   4.043836e+00  1.092705e+00\n",
       "std        2.141666e+20   1.506860e+00  3.350004e+01\n",
       "min        1.000001e+20   0.000000e+00  0.000000e+00\n",
       "25%        1.765906e+20   4.000000e+00  0.000000e+00\n",
       "50%        2.532434e+20   5.000000e+00  0.000000e+00\n",
       "75%        3.297899e+20   5.000000e+00  0.000000e+00\n",
       "max        9.999998e+20   5.000000e+00  1.382400e+04"
      ]
     },
     "execution_count": 13,
     "metadata": {},
     "output_type": "execute_result"
    }
   ],
   "source": [
    "df.describe()"
   ]
  },
  {
   "cell_type": "code",
   "execution_count": 14,
   "metadata": {},
   "outputs": [
    {
     "data": {
      "text/plain": [
       "<Axes: xlabel='review_rating', ylabel='count'>"
      ]
     },
     "execution_count": 14,
     "metadata": {},
     "output_type": "execute_result"
    },
    {
     "data": {
      "image/png": "[encoded data removed]",
      "text/plain": [
       "<Figure size 640x480 with 1 Axes>"
      ]
     },
     "metadata": {},
     "output_type": "display_data"
    }
   ],
   "source": [
    "sns.countplot(data = df, x='review_rating')"
   ]
  },
  {
   "cell_type": "code",
   "execution_count": 15,
   "metadata": {},
   "outputs": [
    {
     "name": "stdout",
     "output_type": "stream",
     "text": [
      "Number of rows with review_rating equal to 1: 530849\n",
      "Number of rows with review_rating equal to 2: 133334\n",
      "Number of rows with review_rating equal to 3: 178543\n",
      "Number of rows with review_rating equal to 4: 348881\n",
      "Number of rows with review_rating equal to 5: 2185815\n"
     ]
    }
   ],
   "source": [
    "# Count the number of rows where review_rating is 1\n",
    "rating_1_count = (df['review_rating'] == 1).sum()\n",
    "rating_2_count = (df['review_rating'] == 2).sum()\n",
    "rating_3_count = (df['review_rating'] == 3).sum()\n",
    "rating_4_count = (df['review_rating'] == 4).sum()\n",
    "rating_5_count = (df['review_rating'] == 5).sum()\n",
    "\n",
    "print(f\"Number of rows with review_rating equal to 1: {rating_1_count}\")\n",
    "print(f\"Number of rows with review_rating equal to 2: {rating_2_count}\")\n",
    "print(f\"Number of rows with review_rating equal to 3: {rating_3_count}\")\n",
    "print(f\"Number of rows with review_rating equal to 4: {rating_4_count}\")\n",
    "print(f\"Number of rows with review_rating equal to 5: {rating_5_count}\")"
   ]
  },
  {
   "cell_type": "code",
   "execution_count": 16,
   "metadata": {},
   "outputs": [],
   "source": [
    "# Undersample 25% of the data for each rating level\n",
    "rate_one = df[df['review_rating'] == 1].sample(n=int(rating_1_count * 0.15))\n",
    "rate_two = df[df['review_rating'] == 2].sample(n=int(rating_2_count * 0.15))\n",
    "rate_three = df[df['review_rating'] == 3].sample(n=int(rating_3_count * 0.15))\n",
    "rate_four = df[df['review_rating'] == 4].sample(n=int(rating_4_count * 0.15))\n",
    "rate_five = df[df['review_rating'] == 5].sample(n=int(rating_5_count * 0.15))"
   ]
  },
  {
   "cell_type": "code",
   "execution_count": 17,
   "metadata": {},
   "outputs": [
    {
     "name": "stdout",
     "output_type": "stream",
     "text": [
      "Total rows after undersampling: 506612\n"
     ]
    },
    {
     "data": {
      "text/html": [
       "<div>\n",
       "<style scoped>\n",
       "    .dataframe tbody tr th:only-of-type {\n",
       "        vertical-align: middle;\n",
       "    }\n",
       "\n",
       "    .dataframe tbody tr th {\n",
       "        vertical-align: top;\n",
       "    }\n",
       "\n",
       "    .dataframe thead th {\n",
       "        text-align: right;\n",
       "    }\n",
       "</style>\n",
       "<table border=\"1\" class=\"dataframe\">\n",
       "  <thead>\n",
       "    <tr style=\"text-align: right;\">\n",
       "      <th></th>\n",
       "      <th>review_id</th>\n",
       "      <th>pseudo_author_id</th>\n",
       "      <th>author_name</th>\n",
       "      <th>review_text</th>\n",
       "      <th>review_rating</th>\n",
       "      <th>review_likes</th>\n",
       "      <th>author_app_version</th>\n",
       "      <th>review_timestamp</th>\n",
       "    </tr>\n",
       "  </thead>\n",
       "  <tbody>\n",
       "    <tr>\n",
       "      <th>1480604</th>\n",
       "      <td>1db23aa2-d687-41c6-909d-4435e26d86e4</td>\n",
       "      <td>1.121512e+20</td>\n",
       "      <td>A Google user</td>\n",
       "      <td>the new version (june 2019) is almost impossib...</td>\n",
       "      <td>1</td>\n",
       "      <td>1</td>\n",
       "      <td>8.5.10.774</td>\n",
       "      <td>2019-06-19 13:00:26</td>\n",
       "    </tr>\n",
       "    <tr>\n",
       "      <th>1975267</th>\n",
       "      <td>09f74b33-1cbc-49cf-9d6d-384239898f6c</td>\n",
       "      <td>3.224024e+20</td>\n",
       "      <td>Sh*********ma</td>\n",
       "      <td>It takes so much data</td>\n",
       "      <td>1</td>\n",
       "      <td>0</td>\n",
       "      <td>nan</td>\n",
       "      <td>2020-08-25 11:44:37</td>\n",
       "    </tr>\n",
       "    <tr>\n",
       "      <th>2822348</th>\n",
       "      <td>5d1fc81a-6716-424c-9753-1f021ada941a</td>\n",
       "      <td>2.186365e+20</td>\n",
       "      <td>Lu**********do</td>\n",
       "      <td>MGA BOBO NAKA SHUFFLE MGA KANTA D KO NA TO I D...</td>\n",
       "      <td>1</td>\n",
       "      <td>0</td>\n",
       "      <td>nan</td>\n",
       "      <td>2022-08-28 03:50:34</td>\n",
       "    </tr>\n",
       "    <tr>\n",
       "      <th>2273526</th>\n",
       "      <td>1053a256-350c-4d61-89a2-222947f93cf1</td>\n",
       "      <td>1.320840e+20</td>\n",
       "      <td>Ka********di</td>\n",
       "      <td>Don't ever try</td>\n",
       "      <td>1</td>\n",
       "      <td>0</td>\n",
       "      <td>nan</td>\n",
       "      <td>2021-05-07 06:28:03</td>\n",
       "    </tr>\n",
       "    <tr>\n",
       "      <th>2983639</th>\n",
       "      <td>c9b3caf6-122b-4a8a-80e5-43e77435b9f8</td>\n",
       "      <td>2.079438e+20</td>\n",
       "      <td>Ma**********ld</td>\n",
       "      <td>I've uninstalled this app. Just keeps stopping...</td>\n",
       "      <td>1</td>\n",
       "      <td>0</td>\n",
       "      <td>8.8.8.548</td>\n",
       "      <td>2023-02-21 06:44:33</td>\n",
       "    </tr>\n",
       "  </tbody>\n",
       "</table>\n",
       "</div>"
      ],
      "text/plain": [
       "                                    review_id  pseudo_author_id  \\\n",
       "1480604  1db23aa2-d687-41c6-909d-4435e26d86e4      1.121512e+20   \n",
       "1975267  09f74b33-1cbc-49cf-9d6d-384239898f6c      3.224024e+20   \n",
       "2822348  5d1fc81a-6716-424c-9753-1f021ada941a      2.186365e+20   \n",
       "2273526  1053a256-350c-4d61-89a2-222947f93cf1      1.320840e+20   \n",
       "2983639  c9b3caf6-122b-4a8a-80e5-43e77435b9f8      2.079438e+20   \n",
       "\n",
       "            author_name                                        review_text  \\\n",
       "1480604   A Google user  the new version (june 2019) is almost impossib...   \n",
       "1975267   Sh*********ma                              It takes so much data   \n",
       "2822348  Lu**********do  MGA BOBO NAKA SHUFFLE MGA KANTA D KO NA TO I D...   \n",
       "2273526    Ka********di                                     Don't ever try   \n",
       "2983639  Ma**********ld  I've uninstalled this app. Just keeps stopping...   \n",
       "\n",
       "         review_rating  review_likes author_app_version     review_timestamp  \n",
       "1480604              1             1         8.5.10.774  2019-06-19 13:00:26  \n",
       "1975267              1             0                nan  2020-08-25 11:44:37  \n",
       "2822348              1             0                nan  2022-08-28 03:50:34  \n",
       "2273526              1             0                nan  2021-05-07 06:28:03  \n",
       "2983639              1             0          8.8.8.548  2023-02-21 06:44:33  "
      ]
     },
     "execution_count": 17,
     "metadata": {},
     "output_type": "execute_result"
    }
   ],
   "source": [
    "undersampled_df = pd.concat([rate_one, rate_two, rate_three, rate_four, rate_five])\n",
    "\n",
    "print(f\"Total rows after undersampling: {undersampled_df.shape[0]}\")\n",
    "undersampled_df.head(5)"
   ]
  },
  {
   "cell_type": "code",
   "execution_count": 18,
   "metadata": {},
   "outputs": [
    {
     "data": {
      "text/plain": [
       "<Axes: xlabel='review_rating', ylabel='count'>"
      ]
     },
     "execution_count": 18,
     "metadata": {},
     "output_type": "execute_result"
    },
    {
     "data": {
      "image/png": "[encoded data removed]",
      "text/plain": [
       "<Figure size 640x480 with 1 Axes>"
      ]
     },
     "metadata": {},
     "output_type": "display_data"
    }
   ],
   "source": [
    "sns.countplot(data = undersampled_df, x='review_rating')"
   ]
  },
  {
   "cell_type": "code",
   "execution_count": 19,
   "metadata": {},
   "outputs": [],
   "source": [
    "def categorize_review(text):\n",
    "    text_lower = text.lower()\n",
    "    tags = []\n",
    "\n",
    "    # Check for positive and negative sentiment keywords\n",
    "    if any(keyword in text_lower for keyword in ['love', 'like', 'great', 'excellent', 'amazing']):\n",
    "        tags.append('positive')\n",
    "    if any(keyword in text_lower for keyword in ['dislike', 'hate', 'bad', 'poor', 'terrible']):\n",
    "        tags.append('negative')\n",
    "\n",
    "    # Check for feature mentions\n",
    "    if any(keyword in text_lower for keyword in ['ui', 'design', 'interface']):\n",
    "        tags.append('ui')\n",
    "    if any(keyword in text_lower for keyword in ['music variety', 'song selection', 'playlist']):\n",
    "        tags.append('music_variety')\n",
    "    if any(keyword in text_lower for keyword in ['recommendation', 'personalized', 'algorithm']):\n",
    "        tags.append('recommendation')\n",
    "\n",
    "    # Check for comparisons with competitors\n",
    "    if 'compare' in text_lower or 'comparison' in text_lower:\n",
    "        tags.append('comparison')\n",
    "    if 'pandora' in text_lower:\n",
    "        tags.append('competitor_pandora')\n",
    "    if 'apple music' in text_lower:\n",
    "        tags.append('competitor_apple_music')\n",
    "    if 'amazon music' in text_lower:\n",
    "        tags.append('competitor_amazon_music')\n",
    "\n",
    "    # Check for trends and other insights\n",
    "    if any(keyword in text_lower for keyword in ['trend', 'pattern', 'demand', 'popular']):\n",
    "        tags.append('trend')\n",
    "\n",
    "    # Default to 'general' if no specific tags are found\n",
    "    if not tags:\n",
    "        tags.append('general')\n",
    "\n",
    "    return ', '.join(tags)"
   ]
  },
  {
   "cell_type": "code",
   "execution_count": 20,
   "metadata": {},
   "outputs": [],
   "source": [
    "# Apply the tagging function to the dataframe\n",
    "undersampled_df['tags'] = undersampled_df['review_text'].apply(categorize_review)"
   ]
  },
  {
   "cell_type": "code",
   "execution_count": 21,
   "metadata": {},
   "outputs": [],
   "source": [
    "# Langchain documentation: \n",
    "# Intanstiate and run the dataframe loader to load the documents. You must include the column name that has the text\n",
    "#https://python.langchain.com/docs/modules/data_connection/document_loaders/\n",
    "loader = DataFrameLoader(undersampled_df, 'review_text')\n",
    "docs = loader.load()"
   ]
  },
  {
   "cell_type": "code",
   "execution_count": 22,
   "metadata": {},
   "outputs": [
    {
     "data": {
      "text/plain": [
       "dict_keys(['review_id', 'pseudo_author_id', 'author_name', 'review_rating', 'review_likes', 'author_app_version', 'review_timestamp', 'tags'])"
      ]
     },
     "execution_count": 22,
     "metadata": {},
     "output_type": "execute_result"
    }
   ],
   "source": [
    "docs[0].metadata.keys()"
   ]
  },
  {
   "cell_type": "code",
   "execution_count": 23,
   "metadata": {},
   "outputs": [],
   "source": [
    "for i, doc in enumerate(docs):\n",
    "    doc.metadata['tags'] = undersampled_df.iloc[i]['tags']"
   ]
  },
  {
   "cell_type": "code",
   "execution_count": 24,
   "metadata": {},
   "outputs": [],
   "source": [
    "# Split the transcripts into smaller chunks\n",
    "# https://python.langchain.com/docs/modules/data_connection/document_transformers/\n",
    "text_splitter = RecursiveCharacterTextSplitter(chunk_size=700, chunk_overlap=200)\n",
    "splits = text_splitter.split_documents(docs)"
   ]
  },
  {
   "cell_type": "code",
   "execution_count": 25,
   "metadata": {},
   "outputs": [
    {
     "data": {
      "text/plain": [
       "506612"
      ]
     },
     "execution_count": 25,
     "metadata": {},
     "output_type": "execute_result"
    }
   ],
   "source": [
    "len(docs)"
   ]
  },
  {
   "cell_type": "code",
   "execution_count": 26,
   "metadata": {},
   "outputs": [
    {
     "data": {
      "text/plain": [
       "506866"
      ]
     },
     "execution_count": 26,
     "metadata": {},
     "output_type": "execute_result"
    }
   ],
   "source": [
    "len(splits)"
   ]
  },
  {
   "cell_type": "code",
   "execution_count": 27,
   "metadata": {},
   "outputs": [
    {
     "data": {
      "text/plain": [
       "Document(page_content='the new version (june 2019) is almost impossibly bad and takes forever to load/find any of my music', metadata={'review_id': '1db23aa2-d687-41c6-909d-4435e26d86e4', 'pseudo_author_id': 1.1215116614876342e+20, 'author_name': 'A Google user', 'review_rating': 1, 'review_likes': 1, 'author_app_version': '8.5.10.774', 'review_timestamp': '2019-06-19 13:00:26', 'tags': 'negative'})"
      ]
     },
     "execution_count": 27,
     "metadata": {},
     "output_type": "execute_result"
    }
   ],
   "source": [
    "splits[0]"
   ]
  },
  {
   "cell_type": "code",
   "execution_count": 28,
   "metadata": {},
   "outputs": [],
   "source": [
    "# Create and persist a Chroma vector store\n",
    "# https://python.langchain.com/docs/modules/data_connection/vectorstores/\n",
    "vectorstore = Chroma.from_documents(documents=splits, embedding=embeddings_model, persist_directory=\"chroma_data\")"
   ]
  },
  {
   "cell_type": "markdown",
   "metadata": {},
   "source": [
    "# Step 3: Test it out with some queries!"
   ]
  },
  {
   "cell_type": "code",
   "execution_count": 29,
   "metadata": {},
   "outputs": [],
   "source": [
    "# Read it back from disk just to make sure it is working properly\n",
    "vectorstore2 = Chroma(persist_directory=\"chroma_data\", embedding_function=embeddings_model)"
   ]
  },
  {
   "cell_type": "code",
   "execution_count": 30,
   "metadata": {},
   "outputs": [
    {
     "data": {
      "text/plain": [
       "[(5, 0.7367459583868015),\n",
       " (5, 0.7367459583868015),\n",
       " (5, 0.7367459583868015),\n",
       " (5, 0.7367459583868015),\n",
       " (5, 0.7367459583868015),\n",
       " (5, 0.7367459583868015),\n",
       " (5, 0.7367459583868015),\n",
       " (5, 0.7367459583868015),\n",
       " (5, 0.7367459583868015),\n",
       " (5, 0.7367459583868015)]"
      ]
     },
     "execution_count": 30,
     "metadata": {},
     "output_type": "execute_result"
    }
   ],
   "source": [
    "# Create a test query\n",
    "query = \"feature\"\n",
    "k = 10\n",
    "results = vectorstore2.similarity_search_with_relevance_scores(query, k=k)\n",
    "# Print out just the video titles\n",
    "[(r[0].metadata['review_rating'], r[1]) for r in results]"
   ]
  },
  {
   "cell_type": "code",
   "execution_count": 31,
   "metadata": {},
   "outputs": [],
   "source": [
    "# Create the \"retreiver\", including how many results you want it to produce\n",
    "# Will be using this in the rag \"chain\" we are going to create so let's just make sure it is working as expected\n",
    "# https://python.langchain.com/docs/modules/data_connection/retrievers/vectorstore/\n",
    "retriever = vectorstore2.as_retriever(search_kwargs={\"k\":k})"
   ]
  },
  {
   "cell_type": "code",
   "execution_count": 32,
   "metadata": {},
   "outputs": [
    {
     "data": {
      "text/plain": [
       "[5, 5, 5, 5, 5, 5, 5, 5, 5, 5]"
      ]
     },
     "execution_count": 32,
     "metadata": {},
     "output_type": "execute_result"
    }
   ],
   "source": [
    "# Run a test\n",
    "results = retriever.invoke(query)\n",
    "[r.metadata['review_rating'] for r in results]"
   ]
  },
  {
   "cell_type": "code",
   "execution_count": 33,
   "metadata": {},
   "outputs": [
    {
     "data": {
      "text/plain": [
       "10"
      ]
     },
     "execution_count": 33,
     "metadata": {},
     "output_type": "execute_result"
    }
   ],
   "source": [
    "len(results)"
   ]
  },
  {
   "cell_type": "code",
   "execution_count": 34,
   "metadata": {},
   "outputs": [
    {
     "data": {
      "text/plain": [
       "[Document(page_content='great', metadata={'author_app_version': '8.5.1.734', 'author_name': 'A Google user', 'pseudo_author_id': 3.118741810976022e+20, 'review_id': '4dbab66b-675c-48aa-af40-12be9b1c396e', 'review_likes': 0, 'review_rating': 5, 'review_timestamp': '2019-04-26 16:15:42', 'tags': 'positive'}),\n",
       " Document(page_content='great', metadata={'author_app_version': '8.5.68.904', 'author_name': 'ar********ao', 'pseudo_author_id': 1.3309685762912728e+20, 'review_id': 'be600930-bb37-4911-ac77-6261530a0de9', 'review_likes': 0, 'review_rating': 5, 'review_timestamp': '2020-07-29 10:56:32', 'tags': 'positive'}),\n",
       " Document(page_content='great', metadata={'author_app_version': '8.4.91.861', 'author_name': 'A Google user', 'pseudo_author_id': 3.096938379149186e+20, 'review_id': 'c80cbeb8-f303-4ead-9a54-aa9cf717d955', 'review_likes': 0, 'review_rating': 5, 'review_timestamp': '2019-02-06 23:41:19', 'tags': 'positive'}),\n",
       " Document(page_content='great', metadata={'author_app_version': '8.4.89.515', 'author_name': 'A Google user', 'pseudo_author_id': 2.5235084053352523e+20, 'review_id': 'd9dc4773-8c5e-46ec-8431-7541b39abc22', 'review_likes': 0, 'review_rating': 5, 'review_timestamp': '2019-01-21 05:40:52', 'tags': 'positive'}),\n",
       " Document(page_content='great', metadata={'author_app_version': '8.5.9.737', 'author_name': 'A Google user', 'pseudo_author_id': 5.843547196437429e+20, 'review_id': 'f4b0ce5b-8681-4e54-9678-b5f6f5d373c6', 'review_likes': 0, 'review_rating': 5, 'review_timestamp': '2019-06-12 09:41:22', 'tags': 'positive'}),\n",
       " Document(page_content='great', metadata={'author_app_version': '8.5.18.934', 'author_name': 'A Google user', 'pseudo_author_id': 1.0066792056147893e+20, 'review_id': '87814ec9-612b-4367-a3ad-b9b1330b7964', 'review_likes': 0, 'review_rating': 5, 'review_timestamp': '2019-08-19 23:02:20', 'tags': 'positive'}),\n",
       " Document(page_content='great', metadata={'author_app_version': '8.4.77.779', 'author_name': 'A Google user', 'pseudo_author_id': 1.698943020039262e+20, 'review_id': 'd7dbdb63-e7d5-4451-8cd4-fff6748c9d7b', 'review_likes': 0, 'review_rating': 5, 'review_timestamp': '2019-05-05 01:41:16', 'tags': 'positive'}),\n",
       " Document(page_content='great', metadata={'author_app_version': 'nan', 'author_name': 'A Google user', 'pseudo_author_id': 3.6535488217046096e+20, 'review_id': '4c8b3075-8b8b-49bb-b9d8-5e9e402a5107', 'review_likes': 0, 'review_rating': 5, 'review_timestamp': '2017-03-26 04:26:25', 'tags': 'positive'}),\n",
       " Document(page_content='great', metadata={'author_app_version': '8.5.1.734', 'author_name': 'A Google user', 'pseudo_author_id': 1.8127940290366197e+20, 'review_id': 'edf8d849-34e7-48df-9522-7d6fe6253c69', 'review_likes': 0, 'review_rating': 5, 'review_timestamp': '2019-04-16 19:28:52', 'tags': 'positive'}),\n",
       " Document(page_content='great', metadata={'author_app_version': '8.5.17.676', 'author_name': 'A Google user', 'pseudo_author_id': 3.776392090772221e+20, 'review_id': 'ac96aaaa-a27d-4a02-b0b1-f5f88746fd70', 'review_likes': 0, 'review_rating': 5, 'review_timestamp': '2019-08-04 06:22:23', 'tags': 'positive'})]"
      ]
     },
     "execution_count": 34,
     "metadata": {},
     "output_type": "execute_result"
    }
   ],
   "source": [
    "results"
   ]
  }
 ],
 "metadata": {
  "kernelspec": {
   "display_name": "myenv",
   "language": "python",
   "name": "python3"
  },
  "language_info": {
   "codemirror_mode": {
    "name": "ipython",
    "version": 3
   },
   "file_extension": ".py",
   "mimetype": "text/x-python",
   "name": "python",
   "nbconvert_exporter": "python",
   "pygments_lexer": "ipython3",
   "version": "3.12.7"
  }
 },
 "nbformat": 4,
 "nbformat_minor": 2
}
